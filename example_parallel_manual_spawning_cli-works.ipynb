{
 "cells": [
  {
   "cell_type": "code",
   "execution_count": 13,
   "metadata": {},
   "outputs": [],
   "source": [
    "%matplotlib inline"
   ]
  },
  {
   "cell_type": "markdown",
   "metadata": {},
   "source": [
    "\n",
    "# Parallel Usage: Spawning workers from the command line\n",
    "\n",
    "*Auto-sklearn* uses\n",
    "[dask.distributed](https://distributed.dask.org/en/latest/index.html)\n",
    "for parallel optimization.\n",
    "\n",
    "This example shows how to start the dask scheduler and spawn\n",
    "workers for *Auto-sklearn* manually from the command line. Use this example\n",
    "as a starting point to parallelize *Auto-sklearn* across multiple\n",
    "machines.\n",
    "\n",
    "To run *Auto-sklearn* in parallel on a single machine check out the example\n",
    "`sphx_glr_examples_60_search_example_parallel_n_jobs.py`.\n",
    "\n",
    "If you want to start everything manually from within Python\n",
    "please see ``:ref:sphx_glr_examples_60_search_example_parallel_manual_spawning_python.py``.\n",
    "\n",
    "**NOTE:** Above example is disabled due to issue https://github.com/dask/distributed/issues/5627\n",
    "\n",
    "\n",
    "You can learn more about the dask command line interface from\n",
    "https://docs.dask.org/en/latest/setup/cli.html.\n",
    "\n",
    "When manually passing a dask client to Auto-sklearn, all logic\n",
    "must be guarded by ``if __name__ == \"__main__\":`` statements! We use\n",
    "multiple such statements to properly render this example as a notebook\n",
    "and also allow execution via the command line.\n",
    "\n",
    "## Background\n",
    "\n",
    "To run Auto-sklearn distributed on multiple machines we need to set\n",
    "up three components:\n",
    "\n",
    "1. **Auto-sklearn and a dask client**. This will manage all workload, find new\n",
    "   configurations to evaluate and submit jobs via a dask client. As this\n",
    "   runs Bayesian optimization it should be executed on its own CPU.\n",
    "2. **The dask workers**. They will do the actual work of running machine\n",
    "   learning algorithms and require their own CPU each.\n",
    "3. **The scheduler**. It manages the communication between the dask client\n",
    "   and the different dask workers. As the client and all workers connect\n",
    "   to the scheduler it must be started first. This is a light-weight job\n",
    "   and does not require its own CPU.\n",
    "\n",
    "We will now start these three components in reverse order: scheduler,\n",
    "workers and client. Also, in a real setup, the scheduler and the workers should\n",
    "be started from the command line and not from within a Python file via\n",
    "the ``subprocess`` module as done here (for the sake of having a self-contained\n",
    "example).\n"
   ]
  },
  {
   "cell_type": "code",
   "execution_count": 14,
   "metadata": {},
   "outputs": [
    {
     "name": "stdout",
     "output_type": "stream",
     "text": [
      "\u001b[33mWARNING: Ignoring invalid distribution -cikit-learn (/opt/conda/lib/python3.8/site-packages)\u001b[0m\n",
      "\u001b[33mWARNING: Ignoring invalid distribution -cikit-learn (/opt/conda/lib/python3.8/site-packages)\u001b[0m\n",
      "Requirement already satisfied: dask in /opt/conda/lib/python3.8/site-packages (2022.9.1)\n",
      "Requirement already satisfied: packaging>=20.0 in /opt/conda/lib/python3.8/site-packages (from dask) (21.3)\n",
      "Requirement already satisfied: partd>=0.3.10 in /opt/conda/lib/python3.8/site-packages (from dask) (1.3.0)\n",
      "Requirement already satisfied: fsspec>=0.6.0 in /opt/conda/lib/python3.8/site-packages (from dask) (2022.8.2)\n",
      "Requirement already satisfied: cloudpickle>=1.1.1 in /opt/conda/lib/python3.8/site-packages (from dask) (2.2.0)\n",
      "Requirement already satisfied: toolz>=0.8.2 in /opt/conda/lib/python3.8/site-packages (from dask) (0.12.0)\n",
      "Requirement already satisfied: pyyaml>=5.3.1 in /opt/conda/lib/python3.8/site-packages (from dask) (6.0)\n",
      "Requirement already satisfied: pyparsing!=3.0.5,>=2.0.2 in /opt/conda/lib/python3.8/site-packages (from packaging>=20.0->dask) (3.0.7)\n",
      "Requirement already satisfied: locket in /opt/conda/lib/python3.8/site-packages (from partd>=0.3.10->dask) (1.0.0)\n",
      "\u001b[33mWARNING: Ignoring invalid distribution -cikit-learn (/opt/conda/lib/python3.8/site-packages)\u001b[0m\n",
      "\u001b[33mWARNING: Ignoring invalid distribution -cikit-learn (/opt/conda/lib/python3.8/site-packages)\u001b[0m\n",
      "\u001b[33mWARNING: Ignoring invalid distribution -cikit-learn (/opt/conda/lib/python3.8/site-packages)\u001b[0m\n",
      "\u001b[33mWARNING: Ignoring invalid distribution -cikit-learn (/opt/conda/lib/python3.8/site-packages)\u001b[0m\n"
     ]
    }
   ],
   "source": [
    "! pip install dask"
   ]
  },
  {
   "cell_type": "code",
   "execution_count": 15,
   "metadata": {},
   "outputs": [
    {
     "name": "stdout",
     "output_type": "stream",
     "text": [
      "\u001b[33mWARNING: Ignoring invalid distribution -cikit-learn (/opt/conda/lib/python3.8/site-packages)\u001b[0m\n",
      "\u001b[33mWARNING: Ignoring invalid distribution -cikit-learn (/opt/conda/lib/python3.8/site-packages)\u001b[0m\n",
      "Requirement already satisfied: dask in /opt/conda/lib/python3.8/site-packages (2022.9.1)\n",
      "Requirement already satisfied: distributed in /opt/conda/lib/python3.8/site-packages (2022.9.1)\n",
      "Requirement already satisfied: cloudpickle>=1.1.1 in /opt/conda/lib/python3.8/site-packages (from dask) (2.2.0)\n",
      "Requirement already satisfied: toolz>=0.8.2 in /opt/conda/lib/python3.8/site-packages (from dask) (0.12.0)\n",
      "Requirement already satisfied: partd>=0.3.10 in /opt/conda/lib/python3.8/site-packages (from dask) (1.3.0)\n",
      "Requirement already satisfied: packaging>=20.0 in /opt/conda/lib/python3.8/site-packages (from dask) (21.3)\n",
      "Requirement already satisfied: fsspec>=0.6.0 in /opt/conda/lib/python3.8/site-packages (from dask) (2022.8.2)\n",
      "Requirement already satisfied: pyyaml>=5.3.1 in /opt/conda/lib/python3.8/site-packages (from dask) (6.0)\n",
      "Requirement already satisfied: sortedcontainers!=2.0.0,!=2.0.1 in /opt/conda/lib/python3.8/site-packages (from distributed) (2.4.0)\n",
      "Requirement already satisfied: urllib3 in /opt/conda/lib/python3.8/site-packages (from distributed) (1.26.6)\n",
      "Requirement already satisfied: zict>=0.1.3 in /opt/conda/lib/python3.8/site-packages (from distributed) (2.2.0)\n",
      "Requirement already satisfied: click>=6.6 in /home/ubuntu/.local/lib/python3.8/site-packages (from distributed) (8.0.4)\n",
      "Requirement already satisfied: locket>=1.0.0 in /opt/conda/lib/python3.8/site-packages (from distributed) (1.0.0)\n",
      "Requirement already satisfied: tornado<6.2,>=6.0.3 in /home/ubuntu/.local/lib/python3.8/site-packages (from distributed) (6.1)\n",
      "Requirement already satisfied: msgpack>=0.6.0 in /opt/conda/lib/python3.8/site-packages (from distributed) (1.0.4)\n",
      "Requirement already satisfied: jinja2 in /home/ubuntu/.local/lib/python3.8/site-packages (from distributed) (3.0.3)\n",
      "Requirement already satisfied: psutil>=5.0 in /opt/conda/lib/python3.8/site-packages (from distributed) (5.9.2)\n",
      "Requirement already satisfied: tblib>=1.6.0 in /opt/conda/lib/python3.8/site-packages (from distributed) (1.7.0)\n",
      "Requirement already satisfied: pyparsing!=3.0.5,>=2.0.2 in /opt/conda/lib/python3.8/site-packages (from packaging>=20.0->dask) (3.0.7)\n",
      "Requirement already satisfied: heapdict in /opt/conda/lib/python3.8/site-packages (from zict>=0.1.3->distributed) (1.0.1)\n",
      "Requirement already satisfied: MarkupSafe>=2.0 in /home/ubuntu/.local/lib/python3.8/site-packages (from jinja2->distributed) (2.1.0)\n",
      "\u001b[33mWARNING: Ignoring invalid distribution -cikit-learn (/opt/conda/lib/python3.8/site-packages)\u001b[0m\n",
      "\u001b[33mWARNING: Ignoring invalid distribution -cikit-learn (/opt/conda/lib/python3.8/site-packages)\u001b[0m\n",
      "\u001b[33mWARNING: Ignoring invalid distribution -cikit-learn (/opt/conda/lib/python3.8/site-packages)\u001b[0m\n",
      "\u001b[33mWARNING: Ignoring invalid distribution -cikit-learn (/opt/conda/lib/python3.8/site-packages)\u001b[0m\n"
     ]
    }
   ],
   "source": [
    "! pip install dask distributed"
   ]
  },
  {
   "cell_type": "code",
   "execution_count": 16,
   "metadata": {},
   "outputs": [
    {
     "name": "stdout",
     "output_type": "stream",
     "text": [
      "\u001b[33mWARNING: Ignoring invalid distribution -cikit-learn (/opt/conda/lib/python3.8/site-packages)\u001b[0m\n",
      "\u001b[33mWARNING: Ignoring invalid distribution -cikit-learn (/opt/conda/lib/python3.8/site-packages)\u001b[0m\n",
      "Requirement already satisfied: auto-sklearn in /home/ubuntu/.local/lib/python3.8/site-packages (0.15.0)\n",
      "Requirement already satisfied: pyrfr<0.9,>=0.8.1 in /home/ubuntu/.local/lib/python3.8/site-packages (from auto-sklearn) (0.8.3)\n",
      "Requirement already satisfied: scipy>=1.7.0 in /opt/conda/lib/python3.8/site-packages (from auto-sklearn) (1.7.3)\n",
      "Requirement already satisfied: pyyaml in /opt/conda/lib/python3.8/site-packages (from auto-sklearn) (6.0)\n",
      "Requirement already satisfied: distributed>=2012.12 in /opt/conda/lib/python3.8/site-packages (from auto-sklearn) (2022.9.1)\n",
      "Requirement already satisfied: smac<1.3,>=1.2 in /home/ubuntu/.local/lib/python3.8/site-packages (from auto-sklearn) (1.2)\n",
      "Requirement already satisfied: dask>=2021.12 in /opt/conda/lib/python3.8/site-packages (from auto-sklearn) (2022.9.1)\n",
      "Requirement already satisfied: joblib in /opt/conda/lib/python3.8/site-packages (from auto-sklearn) (1.1.0)\n",
      "Requirement already satisfied: ConfigSpace<0.5,>=0.4.21 in /home/ubuntu/.local/lib/python3.8/site-packages (from auto-sklearn) (0.4.21)\n",
      "Requirement already satisfied: scikit-learn<0.25.0,>=0.24.0 in /home/ubuntu/.local/lib/python3.8/site-packages (from auto-sklearn) (0.24.2)\n",
      "Requirement already satisfied: pandas>=1.0 in /opt/conda/lib/python3.8/site-packages (from auto-sklearn) (1.3.5)\n",
      "Requirement already satisfied: liac-arff in /home/ubuntu/.local/lib/python3.8/site-packages (from auto-sklearn) (2.5.0)\n",
      "Requirement already satisfied: pynisher<0.7,>=0.6.3 in /home/ubuntu/.local/lib/python3.8/site-packages (from auto-sklearn) (0.6.4)\n",
      "Requirement already satisfied: setuptools in /opt/conda/lib/python3.8/site-packages (from auto-sklearn) (60.9.3)\n",
      "Requirement already satisfied: threadpoolctl in /opt/conda/lib/python3.8/site-packages (from auto-sklearn) (3.1.0)\n",
      "Requirement already satisfied: numpy>=1.9.0 in /opt/conda/lib/python3.8/site-packages (from auto-sklearn) (1.21.5)\n",
      "Requirement already satisfied: typing-extensions in /opt/conda/lib/python3.8/site-packages (from auto-sklearn) (4.1.1)\n",
      "Requirement already satisfied: distro in /home/ubuntu/.local/lib/python3.8/site-packages (from auto-sklearn) (1.7.0)\n",
      "Requirement already satisfied: cython in /opt/conda/lib/python3.8/site-packages (from ConfigSpace<0.5,>=0.4.21->auto-sklearn) (0.29.32)\n",
      "Requirement already satisfied: pyparsing in /opt/conda/lib/python3.8/site-packages (from ConfigSpace<0.5,>=0.4.21->auto-sklearn) (3.0.7)\n",
      "Requirement already satisfied: packaging>=20.0 in /opt/conda/lib/python3.8/site-packages (from dask>=2021.12->auto-sklearn) (21.3)\n",
      "Requirement already satisfied: fsspec>=0.6.0 in /opt/conda/lib/python3.8/site-packages (from dask>=2021.12->auto-sklearn) (2022.8.2)\n",
      "Requirement already satisfied: toolz>=0.8.2 in /opt/conda/lib/python3.8/site-packages (from dask>=2021.12->auto-sklearn) (0.12.0)\n",
      "Requirement already satisfied: partd>=0.3.10 in /opt/conda/lib/python3.8/site-packages (from dask>=2021.12->auto-sklearn) (1.3.0)\n",
      "Requirement already satisfied: cloudpickle>=1.1.1 in /opt/conda/lib/python3.8/site-packages (from dask>=2021.12->auto-sklearn) (2.2.0)\n",
      "Requirement already satisfied: jinja2 in /home/ubuntu/.local/lib/python3.8/site-packages (from distributed>=2012.12->auto-sklearn) (3.0.3)\n",
      "Requirement already satisfied: psutil>=5.0 in /opt/conda/lib/python3.8/site-packages (from distributed>=2012.12->auto-sklearn) (5.9.2)\n",
      "Requirement already satisfied: locket>=1.0.0 in /opt/conda/lib/python3.8/site-packages (from distributed>=2012.12->auto-sklearn) (1.0.0)\n",
      "Requirement already satisfied: urllib3 in /opt/conda/lib/python3.8/site-packages (from distributed>=2012.12->auto-sklearn) (1.26.6)\n",
      "Requirement already satisfied: sortedcontainers!=2.0.0,!=2.0.1 in /opt/conda/lib/python3.8/site-packages (from distributed>=2012.12->auto-sklearn) (2.4.0)\n",
      "Requirement already satisfied: msgpack>=0.6.0 in /opt/conda/lib/python3.8/site-packages (from distributed>=2012.12->auto-sklearn) (1.0.4)\n",
      "Requirement already satisfied: tornado<6.2,>=6.0.3 in /home/ubuntu/.local/lib/python3.8/site-packages (from distributed>=2012.12->auto-sklearn) (6.1)\n",
      "Requirement already satisfied: tblib>=1.6.0 in /opt/conda/lib/python3.8/site-packages (from distributed>=2012.12->auto-sklearn) (1.7.0)\n",
      "Requirement already satisfied: click>=6.6 in /home/ubuntu/.local/lib/python3.8/site-packages (from distributed>=2012.12->auto-sklearn) (8.0.4)\n",
      "Requirement already satisfied: zict>=0.1.3 in /opt/conda/lib/python3.8/site-packages (from distributed>=2012.12->auto-sklearn) (2.2.0)\n",
      "Requirement already satisfied: pytz>=2017.3 in /opt/conda/lib/python3.8/site-packages (from pandas>=1.0->auto-sklearn) (2021.3)\n",
      "Requirement already satisfied: python-dateutil>=2.7.3 in /opt/conda/lib/python3.8/site-packages (from pandas>=1.0->auto-sklearn) (2.8.2)\n",
      "Requirement already satisfied: six>=1.5 in /opt/conda/lib/python3.8/site-packages (from python-dateutil>=2.7.3->pandas>=1.0->auto-sklearn) (1.16.0)\n",
      "Requirement already satisfied: emcee>=3.0.0 in /home/ubuntu/.local/lib/python3.8/site-packages (from smac<1.3,>=1.2->auto-sklearn) (3.1.2)\n",
      "Requirement already satisfied: heapdict in /opt/conda/lib/python3.8/site-packages (from zict>=0.1.3->distributed>=2012.12->auto-sklearn) (1.0.1)\n",
      "Requirement already satisfied: MarkupSafe>=2.0 in /home/ubuntu/.local/lib/python3.8/site-packages (from jinja2->distributed>=2012.12->auto-sklearn) (2.1.0)\n"
     ]
    },
    {
     "name": "stderr",
     "output_type": "stream",
     "text": [
      "2022-09-24 17:44:18,757 - distributed.client - ERROR - Failed to reconnect to scheduler after 30.00 seconds, closing client\n"
     ]
    },
    {
     "name": "stdout",
     "output_type": "stream",
     "text": [
      "\u001b[33mWARNING: Ignoring invalid distribution -cikit-learn (/opt/conda/lib/python3.8/site-packages)\u001b[0m\n",
      "\u001b[33mWARNING: Ignoring invalid distribution -cikit-learn (/opt/conda/lib/python3.8/site-packages)\u001b[0m\n",
      "\u001b[33mWARNING: Ignoring invalid distribution -cikit-learn (/opt/conda/lib/python3.8/site-packages)\u001b[0m\n",
      "\u001b[33mWARNING: Ignoring invalid distribution -cikit-learn (/opt/conda/lib/python3.8/site-packages)\u001b[0m\n"
     ]
    }
   ],
   "source": [
    "! pip install auto-sklearn --user"
   ]
  },
  {
   "cell_type": "markdown",
   "metadata": {},
   "source": [
    "## Import statements\n",
    "\n"
   ]
  },
  {
   "cell_type": "code",
   "execution_count": 26,
   "metadata": {},
   "outputs": [],
   "source": [
    "import multiprocessing\n",
    "import subprocess\n",
    "import time\n",
    "\n",
    "import dask.distributed\n",
    "import sklearn.datasets\n",
    "import sklearn.metrics\n",
    "\n",
    "from autosklearn.classification import AutoSklearnClassifier\n",
    "from autosklearn.constants import MULTICLASS_CLASSIFICATION\n",
    "\n",
    "tmp_folder = \"/tmp/autosklearn_parallel_38282626u3_example_tmp\"\n",
    "\n",
    "worker_processes = []"
   ]
  },
  {
   "cell_type": "markdown",
   "metadata": {},
   "source": [
    "## 0. Setup client-scheduler communication\n",
    "\n",
    "In this examples the dask scheduler is started without an explicit\n",
    "address and port. Instead, the scheduler takes a free port and stores\n",
    "relevant information in a file for which we provided the name and\n",
    "location. This filename is also given to the worker so they can find all\n",
    "relevant information to connect to the scheduler.\n",
    "\n"
   ]
  },
  {
   "cell_type": "code",
   "execution_count": 27,
   "metadata": {},
   "outputs": [],
   "source": [
    "scheduler_file_name = \"scheduler-file.json\""
   ]
  },
  {
   "cell_type": "markdown",
   "metadata": {},
   "source": [
    "## 1. Start scheduler\n",
    "\n",
    "Starting the scheduler is done with the following bash command:\n",
    "\n",
    ".. code:: bash\n",
    "\n",
    "    dask-scheduler --scheduler-file scheduler-file.json --idle-timeout 10\n",
    "\n",
    "We will now execute this bash command from within Python to have a\n",
    "self-contained example:\n",
    "\n"
   ]
  },
  {
   "cell_type": "code",
   "execution_count": 28,
   "metadata": {},
   "outputs": [],
   "source": [
    "def cli_start_scheduler(scheduler_file_name):\n",
    "    command = f\"dask-scheduler --scheduler-file {scheduler_file_name} --idle-timeout 10\"\n",
    "    proc = subprocess.run(\n",
    "        command,\n",
    "        stdout=subprocess.PIPE,\n",
    "        stderr=subprocess.STDOUT,\n",
    "        shell=True,\n",
    "        check=True,\n",
    "    )\n",
    "    while proc.returncode is None:\n",
    "        time.sleep(1)\n",
    "\n",
    "\n",
    "if __name__ == \"__main__\":\n",
    "    process_python_worker = multiprocessing.Process(\n",
    "        target=cli_start_scheduler,\n",
    "        args=(scheduler_file_name,),\n",
    "    )\n",
    "    process_python_worker.start()\n",
    "    worker_processes.append(process_python_worker)\n",
    "\n",
    "    # Wait a second for the scheduler to become available\n",
    "    time.sleep(1)"
   ]
  },
  {
   "cell_type": "markdown",
   "metadata": {},
   "source": [
    "## 2. Start two workers\n",
    "\n",
    "Starting the scheduler is done with the following bash command:\n",
    "\n",
    ".. code:: bash\n",
    "\n",
    "    DASK_DISTRIBUTED__WORKER__DAEMON=False \\\n",
    "        dask-worker --nthreads 1 --lifetime 35 --memory-limit 0 \\\n",
    "        --scheduler-file scheduler-file.json\n",
    "\n",
    "We will now execute this bash command from within Python to have a\n",
    "self-contained example. Please note, that\n",
    "``DASK_DISTRIBUTED__WORKER__DAEMON=False`` is required in this\n",
    "case as dask-worker creates a new process, which by default is not\n",
    "compatible with Auto-sklearn creating new processes in the workers itself.\n",
    "We disable dask's memory management by passing ``--memory-limit`` as\n",
    "Auto-sklearn does the memory management itself.\n",
    "\n"
   ]
  },
  {
   "cell_type": "code",
   "execution_count": 29,
   "metadata": {},
   "outputs": [],
   "source": [
    "def cli_start_worker(scheduler_file_name):\n",
    "    command = (\n",
    "        \"DASK_DISTRIBUTED__WORKER__DAEMON=False \"\n",
    "        \"dask-worker --nthreads 1 --lifetime 35 --memory-limit 0 \"\n",
    "        f\"--scheduler-file {scheduler_file_name}\"\n",
    "    )\n",
    "    proc = subprocess.run(\n",
    "        command, stdout=subprocess.PIPE, stderr=subprocess.STDOUT, shell=True\n",
    "    )\n",
    "    while proc.returncode is None:\n",
    "        time.sleep(1)\n",
    "\n",
    "\n",
    "if __name__ == \"__main__\":\n",
    "    for _ in range(2):\n",
    "        process_cli_worker = multiprocessing.Process(\n",
    "            target=cli_start_worker,\n",
    "            args=(scheduler_file_name,),\n",
    "        )\n",
    "        process_cli_worker.start()\n",
    "        worker_processes.append(process_cli_worker)\n",
    "\n",
    "    # Wait a second for workers to become available\n",
    "    time.sleep(1)"
   ]
  },
  {
   "cell_type": "markdown",
   "metadata": {},
   "source": [
    "## 3. Creating a client in Python\n",
    "\n",
    "Finally we create a dask cluster which also connects to the scheduler via\n",
    "the information in the file created by the scheduler.\n",
    "\n"
   ]
  },
  {
   "cell_type": "code",
   "execution_count": 30,
   "metadata": {},
   "outputs": [],
   "source": [
    "client = dask.distributed.Client(scheduler_file=scheduler_file_name)"
   ]
  },
  {
   "cell_type": "code",
   "execution_count": 31,
   "metadata": {},
   "outputs": [
    {
     "data": {
      "text/html": [
       "<div>\n",
       "    <div style=\"width: 24px; height: 24px; background-color: #e1e1e1; border: 3px solid #9D9D9D; border-radius: 5px; position: absolute;\"> </div>\n",
       "    <div style=\"margin-left: 48px;\">\n",
       "        <h3 style=\"margin-bottom: 0px;\">Client</h3>\n",
       "        <p style=\"color: #9D9D9D; margin-bottom: 0px;\">Client-b4817cdd-3c30-11ed-8369-262eede60ffa</p>\n",
       "        <table style=\"width: 100%; text-align: left;\">\n",
       "\n",
       "        <tr>\n",
       "        \n",
       "            <td style=\"text-align: left;\"><strong>Connection method:</strong> Scheduler file</td>\n",
       "            <td style=\"text-align: left;\"><strong>Scheduler file:</strong> scheduler-file.json</td>\n",
       "        \n",
       "        </tr>\n",
       "\n",
       "        \n",
       "            <tr>\n",
       "                <td style=\"text-align: left;\">\n",
       "                    <strong>Dashboard: </strong> <a href=\"http://10.0.111.15:8787/status\" target=\"_blank\">http://10.0.111.15:8787/status</a>\n",
       "                </td>\n",
       "                <td style=\"text-align: left;\"></td>\n",
       "            </tr>\n",
       "        \n",
       "\n",
       "        </table>\n",
       "\n",
       "        \n",
       "            <details>\n",
       "            <summary style=\"margin-bottom: 20px;\"><h3 style=\"display: inline;\">Scheduler Info</h3></summary>\n",
       "            <div style=\"\">\n",
       "    <div>\n",
       "        <div style=\"width: 24px; height: 24px; background-color: #FFF7E5; border: 3px solid #FF6132; border-radius: 5px; position: absolute;\"> </div>\n",
       "        <div style=\"margin-left: 48px;\">\n",
       "            <h3 style=\"margin-bottom: 0px;\">Scheduler</h3>\n",
       "            <p style=\"color: #9D9D9D; margin-bottom: 0px;\">Scheduler-b4b4f104-b634-4c0c-ae7a-6a2c20d353d7</p>\n",
       "            <table style=\"width: 100%; text-align: left;\">\n",
       "                <tr>\n",
       "                    <td style=\"text-align: left;\">\n",
       "                        <strong>Comm:</strong> tcp://10.0.111.15:8786\n",
       "                    </td>\n",
       "                    <td style=\"text-align: left;\">\n",
       "                        <strong>Workers:</strong> 0\n",
       "                    </td>\n",
       "                </tr>\n",
       "                <tr>\n",
       "                    <td style=\"text-align: left;\">\n",
       "                        <strong>Dashboard:</strong> <a href=\"http://10.0.111.15:8787/status\" target=\"_blank\">http://10.0.111.15:8787/status</a>\n",
       "                    </td>\n",
       "                    <td style=\"text-align: left;\">\n",
       "                        <strong>Total threads:</strong> 0\n",
       "                    </td>\n",
       "                </tr>\n",
       "                <tr>\n",
       "                    <td style=\"text-align: left;\">\n",
       "                        <strong>Started:</strong> Just now\n",
       "                    </td>\n",
       "                    <td style=\"text-align: left;\">\n",
       "                        <strong>Total memory:</strong> 0 B\n",
       "                    </td>\n",
       "                </tr>\n",
       "            </table>\n",
       "        </div>\n",
       "    </div>\n",
       "\n",
       "    <details style=\"margin-left: 48px;\">\n",
       "        <summary style=\"margin-bottom: 20px;\">\n",
       "            <h3 style=\"display: inline;\">Workers</h3>\n",
       "        </summary>\n",
       "\n",
       "        \n",
       "\n",
       "    </details>\n",
       "</div>\n",
       "            </details>\n",
       "        \n",
       "\n",
       "    </div>\n",
       "</div>"
      ],
      "text/plain": [
       "<Client: 'tcp://10.0.111.15:8786' processes=0 threads=0, memory=0 B>"
      ]
     },
     "execution_count": 31,
     "metadata": {},
     "output_type": "execute_result"
    }
   ],
   "source": [
    "client"
   ]
  },
  {
   "cell_type": "markdown",
   "metadata": {},
   "source": [
    "### Start Auto-sklearn\n",
    "\n"
   ]
  },
  {
   "cell_type": "code",
   "execution_count": 32,
   "metadata": {},
   "outputs": [
    {
     "name": "stdout",
     "output_type": "stream",
     "text": [
      "auto-sklearn results:\n",
      "  Dataset name: b4dfcfee-3c30-11ed-8369-262eede60ffa\n",
      "  Metric: accuracy\n",
      "  Best validation score: 0.992908\n",
      "  Number of target algorithm runs: 5\n",
      "  Number of successful target algorithm runs: 5\n",
      "  Number of crashed target algorithm runs: 0\n",
      "  Number of target algorithms that exceeded the time limit: 0\n",
      "  Number of target algorithms that exceeded the memory limit: 0\n",
      "\n",
      "Accuracy score 0.965034965034965\n",
      "CPU times: user 2.02 s, sys: 201 ms, total: 2.22 s\n",
      "Wall time: 23.9 s\n"
     ]
    }
   ],
   "source": [
    "%%time\n",
    "\n",
    "if __name__ == \"__main__\":\n",
    "    X, y = sklearn.datasets.load_breast_cancer(return_X_y=True)\n",
    "    X_train, X_test, y_train, y_test = sklearn.model_selection.train_test_split(\n",
    "        X, y, random_state=1\n",
    "    )\n",
    "\n",
    "    automl = AutoSklearnClassifier(\n",
    "        delete_tmp_folder_after_terminate=False,\n",
    "        time_left_for_this_task=30,\n",
    "        per_run_time_limit=10,\n",
    "        memory_limit=2048,\n",
    "        tmp_folder=tmp_folder,\n",
    "        seed=777,\n",
    "        # n_jobs is ignored internally as we pass a dask client.\n",
    "        n_jobs=1,\n",
    "        # Pass a dask client which connects to the previously constructed cluster.\n",
    "        dask_client=client,\n",
    "    )\n",
    "    automl.fit(X_train, y_train)\n",
    "\n",
    "    automl.fit_ensemble(\n",
    "        y_train,\n",
    "        task=MULTICLASS_CLASSIFICATION,\n",
    "        dataset_name=\"digits\",\n",
    "        ensemble_kwargs={\"ensemble_size\": 20},\n",
    "        ensemble_nbest=50,\n",
    "    )\n",
    "\n",
    "    predictions = automl.predict(X_test)\n",
    "    print(automl.sprint_statistics())\n",
    "    print(\"Accuracy score\", sklearn.metrics.accuracy_score(y_test, predictions))"
   ]
  },
  {
   "cell_type": "markdown",
   "metadata": {},
   "source": [
    "## Wait until all workers are closed\n",
    "\n",
    "This is only necessary if the workers are started from within this python\n",
    "script. In a real application one would start them directly from the command\n",
    "line.\n",
    "\n"
   ]
  },
  {
   "cell_type": "code",
   "execution_count": 24,
   "metadata": {},
   "outputs": [],
   "source": [
    "if __name__ == \"__main__\":\n",
    "    process_python_worker.join()\n",
    "    for process in worker_processes:\n",
    "        process.join()"
   ]
  }
 ],
 "metadata": {
  "kernelspec": {
   "display_name": "Python 3 (ipykernel)",
   "language": "python",
   "name": "python3"
  },
  "language_info": {
   "codemirror_mode": {
    "name": "ipython",
    "version": 3
   },
   "file_extension": ".py",
   "mimetype": "text/x-python",
   "name": "python",
   "nbconvert_exporter": "python",
   "pygments_lexer": "ipython3",
   "version": "3.8.12"
  }
 },
 "nbformat": 4,
 "nbformat_minor": 1
}
